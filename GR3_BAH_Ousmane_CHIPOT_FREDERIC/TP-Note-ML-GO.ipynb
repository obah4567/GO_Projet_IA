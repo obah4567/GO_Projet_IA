{
 "cells": [
  {
   "cell_type": "markdown",
   "metadata": {
    "id": "48P2aoXicD4-"
   },
   "source": [
    "# Apprenez une heuristique pour le Go\n",
    "\n",
    "Dans ce TP noté, vous devrez déployer des methodes d'apprentissage automatique permettant d'évaluer la qualité de plateaux de GO.\n",
    "\n",
    "Pour cela, vous disposerez de 41563 exemples de plateau de Go, tous générés par gnugo après quelques coups contre lui même avec un niveau de difficulté de 0. Par chaque plateau, nous avons lancé 100 matchs de gnugo contre lui même, toujours avec un niveau 0, et compté le nombre de victoires de noir et de blanc depuis ce plateau.\n",
    "\n",
    "A noter, chaque \"rollout\" (un rollout et un déroulement possible du match depuis le plateau de référence) correspond à des mouvements choisis aléatoirement parmis les 10 meilleurs mouvements possibles, en biasant le choix aléatoire par la qualité prédite du mouvement par gnugo (les meilleurs mouvements ont une plus forte probabilité d'être tirés).\n",
    "\n",
    "Les données dont vous disposez sont brutes. Ce sera à vous de proposer un format adéquat pour utiliser ces données en entrée de votre réseau neuronal. \n",
    "\n",
    "## Comment sera évalué votre modèle ?\n",
    "\n",
    "Nous vous fournirons 6h avant la date de rendu un nouveau fichier contenant 1000 nouveaux exemples, qui ne contiendront pas les champs `black_wins`, `white_wins`, `black_points` et `white_points`. Vous devrez laisser, dans votre dépot de projet un fichier texte nommé `my_predictions.txt` ayant une prédiction par ligne (un simple flottant) qui donnera, dans le même ordre de la liste des exemples les scores que vous prédisez pour chacune des entrées du fichier que nous vous aurons donné. Il faudra laisser, dans votre feuille notebook (voir tout en dessous) la cellule Python qui aura créé ce fichier, pour que l'on puisse éventuellement refaire vos prédictions.\n",
    "\n",
    "### Le rendu attendu de ce TP\n",
    "\n",
    "Bien entendu, vous nous rendrez également votre feuille jupyter **sous deux formats**, à la fois le fichier `.ipynb` et le fichier `.html` nous permettant de lire ce que vous avez fait, sans forcément relancer la feuille. Nous prendrons en compte les résultats obtenus sur les prédictions mais aussi le contenu de vos notebooks jupyter. Il faudra donc donner **trois fichiers** :\n",
    " les deux contenant votre notebook et celui contenant vos prédictions.\n",
    "\n",
    "### Comment sera noté ce TP ?\n",
    "\n",
    "Il s'agit \"seulement\" d'un TP noté, donc il ne faudra pas y passer trop de temps. Nous attendons des prédictions correctes mais surtout des choix justifiés dans la feuille. Votre feuille notebook sera le plus important pour la notation (n'hésitez pas à mettre des cellules de texte pour expliquer pourquoi vous avez été amenés à faire certains choix). Ainsi, il serait bien d'avoir, par exemple, les données (graphiques ou autre) qui permettent de comprendre comment vous avez évité l'overfitting.\n",
    "\n",
    "Le fichier de vos prédictions sera évalué en se basant sur la qualité de vos prédictions. Nous mesurerons par exemple le nombre d'exemples dont votre prédiction donnera la bonne valeur à 5%, 10%, 20%, 35%, 50% pour estimer sa qualité. Nous pourrons également prendre en compte une mesure basée simplement sur la distance de vos prédictions aux vraies valeurs.\n",
    "\n",
    "\n",
    "## Mise en route !\n",
    "\n",
    "Voyons  comment lire les données !\n",
    "A la fin vous aurez\n",
    "- `data` qui contiendra les données sur lesquelles faire votre apprentissage (ces données contiennent la valeur qu'il faut prévoir pour entrainer votre réseau)\n",
    "- `data_to_evaluate` qui contiendra les données sur lesquelles faire vos prédictions. Vous n'avez pas pour ces valeurs les vraies prédictions ! Il faudra faire au mieux !\n"
   ]
  },
  {
   "cell_type": "code",
   "execution_count": 1,
   "metadata": {
    "colab": {
     "base_uri": "https://localhost:8080/"
    },
    "id": "TlW_qQYCcD4_",
    "outputId": "908ea9ea-d900-41dd-8034-5514a04ed7b4"
   },
   "outputs": [
    {
     "name": "stdout",
     "output_type": "stream",
     "text": [
      "We have 41563 examples with the scores to train, ...\n",
      "We have 1000 examples to score (but for which we don't know the real values)\n"
     ]
    }
   ],
   "source": [
    "# Import du fichier d'exemples\n",
    "\n",
    "def get_raw_data_go(file):\n",
    "    ''' Returns the set of samples from the local file or download it if it does not exists'''\n",
    "    import gzip, os.path\n",
    "    import json\n",
    "\n",
    "    if not os.path.isfile(file):\n",
    "        print(\"File\", file, \"not found, I am downloading it...\", end=\"\")\n",
    "        import urllib.request \n",
    "        urllib.request.urlretrieve (\"https://www.labri.fr/perso/lsimon/IA-M1/\" + file, file)\n",
    "        print(\" Done\")\n",
    "\n",
    "    with gzip.open(file) as fz:\n",
    "        data = json.loads(fz.read().decode(\"utf-8\"))\n",
    "    return data\n",
    "\n",
    "data = get_raw_data_go(\"samples-9x9.json.gz\")\n",
    "data_to_evaluate = get_raw_data_go(\"positions-to-evaluate-9x9.json.gz\")\n",
    "\n",
    "print(\"We have\", len(data),\"examples with the scores to train, ...\")\n",
    "print(\"We have\", len(data_to_evaluate),\"examples to score (but for which we don't know the real values)\")\n"
   ]
  },
  {
   "cell_type": "markdown",
   "metadata": {
    "id": "EgrGAXC5cD5B"
   },
   "source": [
    "## Compréhension des données de chaque entrée\n",
    "\n",
    "Voici une description de chaque exemple"
   ]
  },
  {
   "cell_type": "code",
   "execution_count": 2,
   "metadata": {
    "colab": {
     "base_uri": "https://localhost:8080/"
    },
    "id": "fmOoP_LccD5B",
    "outputId": "a49287d9-29f5-4212-90a0-1c814ad7868f"
   },
   "outputs": [
    {
     "name": "stdout",
     "output_type": "stream",
     "text": [
      "Exemple sur les données qui ont les résultats visés\n",
      "Sample 10\n",
      "\n",
      "Données brutes en format JSON: {'depth': 8, 'list_of_moves': ['C6', 'E7', 'C3', 'C8', 'E5', 'G3', 'B7', 'H7'], 'black_stones': ['B7', 'C6', 'E5', 'C3'], 'white_stones': ['C8', 'E7', 'H7', 'G3'], 'rollouts': 100, 'black_wins': 60, 'black_points': 876.0, 'white_wins': 40, 'white_points': 378.0}\n",
      "\n",
      "The sample was obtained after 8 moves\n",
      "The successive moves were ['C6', 'E7', 'C3', 'C8', 'E5', 'G3', 'B7', 'H7']\n",
      "After these moves and all the captures, there was black stones at the following position ['B7', 'C6', 'E5', 'C3']\n",
      "After these moves and all the captures, there was white stones at the following position ['C8', 'E7', 'H7', 'G3']\n",
      "Number of rollouts (gnugo games played against itself from this position): 100\n",
      "Over these 100 games, black won 60 times with 876.0 total points over all this winning games\n",
      "Over these 100 games, white won 40 times with 378.0 total points over all this winning games\n",
      "\n",
      "Remarquez que, sur les données à prédire, il manque des valeurs :) :\n",
      "{'depth': 16, 'list_of_moves': ['E6', 'E3', 'C3', 'G6', 'G7', 'C6', 'H7', 'H4', 'D2', 'F6', 'E8', 'C8', 'E5', 'B9', 'E7', 'E2'], 'black_stones': ['E8', 'E7', 'G7', 'H7', 'E6', 'E5', 'C3', 'D2'], 'white_stones': ['B9', 'C8', 'C6', 'F6', 'G6', 'H4', 'E3'], 'rollouts': 100}\n"
     ]
    }
   ],
   "source": [
    "def summary_of_example(data, sample_nb):\n",
    "    ''' Gives you some insights about a sample number'''\n",
    "    sample = data[sample_nb]\n",
    "    print(\"Sample\", sample_nb)\n",
    "    print()\n",
    "    print(\"Données brutes en format JSON:\", sample)\n",
    "    print()\n",
    "    print(\"The sample was obtained after\", sample[\"depth\"], \"moves\")\n",
    "    print(\"The successive moves were\", sample[\"list_of_moves\"])\n",
    "    print(\"After these moves and all the captures, there was black stones at the following position\", sample[\"black_stones\"])\n",
    "    print(\"After these moves and all the captures, there was white stones at the following position\", sample[\"white_stones\"])\n",
    "    print(\"Number of rollouts (gnugo games played against itself from this position):\", sample[\"rollouts\"])\n",
    "    print(\"Over these\", sample[\"rollouts\"], \"games, black won\", sample[\"black_wins\"], \"times with\", sample[\"black_points\"], \"total points over all this winning games\")\n",
    "    print(\"Over these\", sample[\"rollouts\"], \"games, white won\", sample[\"white_wins\"], \"times with\", sample[\"white_points\"], \"total points over all this winning games\")\n",
    "\n",
    "print(\"Exemple sur les données qui ont les résultats visés\")\n",
    "summary_of_example(data,10)\n",
    "\n",
    "print()\n",
    "print(\"Remarquez que, sur les données à prédire, il manque des valeurs :) :\")\n",
    "print(data_to_evaluate[0])"
   ]
  },
  {
   "cell_type": "code",
   "execution_count": 3,
   "metadata": {
    "id": "rn2Rt8xkcD5B",
    "outputId": "ded0e1ee-9b3b-47f7-eea2-8f379b67d2ec"
   },
   "outputs": [
    {
     "name": "stdout",
     "output_type": "stream",
     "text": [
      "The CDF curve shows that black has more chances to win, globally\n"
     ]
    },
    {
     "data": {
      "image/png": "[encoded data removed]",
      "text/plain": [
       "<Figure size 432x288 with 1 Axes>"
      ]
     },
     "metadata": {
      "needs_background": "light"
     },
     "output_type": "display_data"
    },
    {
     "data": {
      "image/png": "[encoded data removed]",
      "text/plain": [
       "<Figure size 432x288 with 1 Axes>"
      ]
     },
     "metadata": {
      "needs_background": "light"
     },
     "output_type": "display_data"
    }
   ],
   "source": [
    "%matplotlib inline\n",
    "import matplotlib.pyplot as plt\n",
    "\n",
    "plt.title(\"Relationship between the depth of the board and the chance for black to win\")\n",
    "plt.plot([sample[\"black_wins\"] for sample in data],[sample[\"depth\"] for sample in data], '.')\n",
    "plt.xlabel(\"black wins (percentage)\")\n",
    "plt.ylabel(\"depth of the game\")\n",
    "\n",
    "\n",
    "# Cumulative Distribution function of the chance of black to win\n",
    "cdf_wins = sorted([sample[\"black_wins\"] for sample in data])\n",
    "plt.figure()\n",
    "plt.plot([x/len(cdf_wins) for x in range(len(cdf_wins))], cdf_wins)\n",
    "plt.title(\"Cumulative Distribution function of the chance of black to win\")\n",
    "plt.xlabel(\"\\% of the samples with a chance of black to win below y\")\n",
    "plt.ylabel(\"Chance of black to win\")\n",
    "print(\"The CDF curve shows that black has more chances to win, globally\")"
   ]
  },
  {
   "cell_type": "markdown",
   "metadata": {
    "id": "hf2M2XxkcD5B"
   },
   "source": [
    "# First steps: transform all the data into np arrays to feed your neural network\n",
    "\n",
    "(désolé je viens de me rendre compte que je viens de passer en anglais :))\n",
    "\n",
    "Advices:\n",
    "- do not use only a single 9x9 matrix as input. Use at least two planes to encode the board. One plane for black and one plane for white (typically with a 1 if there is a black stone for the first plane and with a 1 if there is a white stone for the second plane). The dimension of an input should be at least `[9,9,2]` as it is proposed in the example below. Of course you can use a more interesting encoding of the board into tensors.\n",
    "- if you have time, you could consider to enrich your dataset with all symmetries and rotations. You should be able to multiply the number of samples to consider: any rotation of the board should have the same score, right?\n",
    "- what should happen on the score if you switch the colors? To know which player has to play next, you can check, for a sample, the parity of the length of the list `data[i][\"list_of_moves\"]` (an odd length list would mean that white is the next player. An even length list means that black has to play).\n",
    "- work on enlarging and preparing your data only once. Once all you input data is setup as a big np matrix, you may want to save it for speeding up everything. You can use, for instance `np.rot90()` and `np.flipud()` to generate all the symmetries\n",
    "\n"
   ]
  },
  {
   "cell_type": "code",
   "execution_count": 4,
   "metadata": {
    "colab": {
     "base_uri": "https://localhost:8080/"
    },
    "id": "mPw4QA0AcD5B",
    "outputId": "80ec0a7d-6286-4606-c9a7-9cc7dd2791ba"
   },
   "outputs": [
    {
     "name": "stdout",
     "output_type": "stream",
     "text": [
      "Par exemple voici ce que va donner notre encodage pour l'exemple 10:\n",
      "{'depth': 8, 'list_of_moves': ['C6', 'E7', 'C3', 'C8', 'E5', 'G3', 'B7', 'H7'], 'black_stones': ['B7', 'C6', 'E5', 'C3'], 'white_stones': ['C8', 'E7', 'H7', 'G3'], 'rollouts': 100, 'black_wins': 60, 'black_points': 876.0, 'white_wins': 40, 'white_points': 378.0}\n",
      "La matrice résultat est de dimension\n",
      "(9, 9, 2)\n",
      "Plan 0 du tenseur : contient les pieces contenant une pierre noire sur l'exemple 10\n",
      "[[0. 0. 0. 0. 0. 0. 0. 0. 0.]\n",
      " [0. 0. 0. 0. 0. 0. 1. 0. 0.]\n",
      " [0. 0. 1. 0. 0. 1. 0. 0. 0.]\n",
      " [0. 0. 0. 0. 0. 0. 0. 0. 0.]\n",
      " [0. 0. 0. 0. 1. 0. 0. 0. 0.]\n",
      " [0. 0. 0. 0. 0. 0. 0. 0. 0.]\n",
      " [0. 0. 0. 0. 0. 0. 0. 0. 0.]\n",
      " [0. 0. 0. 0. 0. 0. 0. 0. 0.]\n",
      " [0. 0. 0. 0. 0. 0. 0. 0. 0.]]\n",
      "Les positions des pierres sont  ['B7', 'C6', 'E5', 'C3']\n",
      "\n",
      "Plan 1 du tenseur : contient les pieces contenant une pierre blanche sur l'exemple 10\n",
      "[[0. 0. 0. 0. 0. 0. 0. 0. 0.]\n",
      " [0. 0. 0. 0. 0. 0. 0. 0. 0.]\n",
      " [0. 0. 0. 0. 0. 0. 0. 1. 0.]\n",
      " [0. 0. 0. 0. 0. 0. 0. 0. 0.]\n",
      " [0. 0. 0. 0. 0. 0. 1. 0. 0.]\n",
      " [0. 0. 0. 0. 0. 0. 0. 0. 0.]\n",
      " [0. 0. 1. 0. 0. 0. 0. 0. 0.]\n",
      " [0. 0. 0. 0. 0. 0. 1. 0. 0.]\n",
      " [0. 0. 0. 0. 0. 0. 0. 0. 0.]]\n",
      "Les positions des pierres sont  ['C8', 'E7', 'H7', 'G3']\n",
      "\n"
     ]
    }
   ],
   "source": [
    "import numpy as np\n",
    "\n",
    "def name_to_coord(s):\n",
    "    assert s != \"PASS\"\n",
    "    indexLetters = {'A':0, 'B':1, 'C':2, 'D':3, 'E':4, 'F':5, 'G':6, 'H':7, 'J':8}\n",
    "\n",
    "    col = indexLetters[s[0]]\n",
    "    lin = int(s[1:]) - 1\n",
    "    return col, lin\n",
    "\n",
    " # Vous pouvez utiliser votre propre fonction ici si vous voulez utiliser un autre encodage\n",
    "def json_to_numpy(sample):\n",
    "  to_return = np.zeros((9,9,2))\n",
    "  indices = [\"black_stones\", \"white_stones\"]\n",
    "  for plane, name in enumerate(indices):\n",
    "    for coord_name in sample[name]:\n",
    "      x, y = name_to_coord(coord_name)\n",
    "      to_return[x,y,plane] = 1\n",
    "  return to_return\n",
    "\n",
    "print(\"Par exemple voici ce que va donner notre encodage pour l'exemple 10:\")\n",
    "print(data[10])\n",
    "encoded = json_to_numpy(data[10])\n",
    "\n",
    "print(\"La matrice résultat est de dimension\")\n",
    "print(encoded.shape)\n",
    "print(\"Plan 0 du tenseur : contient les pieces contenant une pierre noire sur l'exemple 10\")\n",
    "print(encoded[:,:,0])\n",
    "print(\"Les positions des pierres sont \", data[10][\"black_stones\"])\n",
    "print()\n",
    "print(\"Plan 1 du tenseur : contient les pieces contenant une pierre blanche sur l'exemple 10\")\n",
    "print(encoded[:,:,1])\n",
    "print(\"Les positions des pierres sont \", data[10][\"white_stones\"])\n",
    "\n",
    "print()"
   ]
  },
  {
   "cell_type": "markdown",
   "metadata": {
    "id": "c4jGlB-PcD5B"
   },
   "source": [
    "## Données en entrée et en sortie de votre modèle final\n",
    "\n",
    "Même si en interne, votre modèle va manipuler des tenseurs en np, vous devrez construire une boite noire qui prendra en entrée un élément json décrivant les coordonnées des pierres noires et blanche et **donnera le pourcentage de chance pour noir** de gagner depuis cette position. On ne cherche pas à prédire la moyenne des scores, mais seulement le pourcentage de victoire (donc un flottant entre 0 et 1) !\n",
    "\n",
    "Ainsi, pour l'exemple `i` :\n",
    "- Vous prendez en entree `data[i]`\n",
    "- Vous devrez prédire simplement `data[i][\"black_wins\"]/data[i][\"rollouts\"]`\n",
    "\n",
    "Encore une fois, **attention** : en interne, il faudra absolument construire vos données formattées en matrices np pour faire votre entrainement. On vous demande juste ici d'écrire comment vous faites ces transformations, pour comprendre ce que vous avez décidé de mettre en entrée du réseau.\n",
    "\n",
    "### Exemple de cellule permettant de genérer le fichier qu'il faudra donner\n",
    "\n",
    "Voici le modèle de la fonction qui pourra être appelée, au final (Attention, ce n'est qu'un exemple, vous pourrez par exemple avoir une fonction qui prend plus de paramètres en entrée pour produire votre prédiction):\n"
   ]
  },
  {
   "cell_type": "code",
   "execution_count": 5,
   "metadata": {
    "colab": {
     "base_uri": "https://localhost:8080/"
    },
    "id": "o9Hipn-fkSTR",
    "outputId": "942faf67-2cb5-451e-bdf7-ce4ec0e52683"
   },
   "outputs": [
    {
     "name": "stdout",
     "output_type": "stream",
     "text": [
      "(41563, 9, 9, 2)\n",
      "(41563,)\n",
      "Et voici les 1000 exemples à prédire, prêts à passer dans votre réseau\n",
      "(1000, 9, 9, 2)\n"
     ]
    }
   ],
   "source": [
    "# Ce bout de code produit (X, Y)\n",
    "# Pour retrouver vos habitudes\n",
    "\n",
    "\n",
    "np.random.seed(12345)  # A changer pour ne pas mélanger toujours pareil\n",
    "\n",
    "X = []\n",
    "Y = []\n",
    "for d in data:\n",
    "  X.append(json_to_numpy(d))\n",
    "  Y.append(d[\"black_wins\"] / d[\"rollouts\"])\n",
    "\n",
    "X = np.array(X)\n",
    "Y = np.array(Y)\n",
    "\n",
    "\n",
    "print(X.shape)\n",
    "print(Y.shape)\n",
    "\n",
    "\n",
    "X_to_predict = []\n",
    "for d in data_to_evaluate:\n",
    "  X_to_predict.append(json_to_numpy(d))\n",
    "X_to_predict = np.array(X_to_predict)\n",
    "\n",
    "print(\"Et voici les 1000 exemples à prédire, prêts à passer dans votre réseau\")\n",
    "print(X_to_predict.shape)"
   ]
  },
  {
   "cell_type": "markdown",
   "metadata": {
    "id": "GryB1BkqcD5B"
   },
   "source": [
    "# Second steps: build your neural network and train it\n",
    "\n",
    "Don't forget to check overfitting, ...\n",
    "\n",
    "*advices* :\n",
    "- you need to test Dense and Conv2D layers (the best models may contain convolution layers=\n",
    "- if you use convolution layers, be sure not to downsize your board. Applying a filter should keep the original size of the board (9x9), otherwise you would somehow forget the stones on the borders\n",
    "- you will use like 33% of your input sample for validation. However, the final goal is to score new data that will be given in addition to the actual data. So, you should use the 33% splitting rule to set up your network architecture and, once you fixed it, you should train your final model on the whole set of data, crossing your fingers that it will generalize well.\n",
    "- Warning: if you launch the fit function from keras more than once, it will not reset the weights and the biases of your neural network. It's good news because you can add more and more epochs to your model, but be careful about the training/test sets: each time you call fit() with validation_split set up to something like 0.33, it will choose a **new** partition of the samples. So you are breaking your validation/training partition! We advice you to use the `sklearn.model_selection.train_test_split()` method to split the set of examples just once and then use the parameter `validation_data` in the call for `fit()`.  Thus you will be able to call it multiple time.\n"
   ]
  },
  {
   "cell_type": "code",
   "execution_count": 11,
   "metadata": {
    "id": "jbwhO9a_cD5C"
   },
   "outputs": [
    {
     "name": "stdout",
     "output_type": "stream",
     "text": [
      "Model: \"sequential_2\"\n",
      "_________________________________________________________________\n",
      "Layer (type)                 Output Shape              Param #   \n",
      "=================================================================\n",
      "conv2d_4 (Conv2D)            (None, 7, 7, 64)          1216      \n",
      "_________________________________________________________________\n",
      "conv2d_5 (Conv2D)            (None, 5, 5, 128)         73856     \n",
      "_________________________________________________________________\n",
      "flatten_2 (Flatten)          (None, 3200)              0         \n",
      "_________________________________________________________________\n",
      "dropout_4 (Dropout)          (None, 3200)              0         \n",
      "_________________________________________________________________\n",
      "dense_4 (Dense)              (None, 256)               819456    \n",
      "_________________________________________________________________\n",
      "dropout_5 (Dropout)          (None, 256)               0         \n",
      "_________________________________________________________________\n",
      "dense_5 (Dense)              (None, 1)                 257       \n",
      "=================================================================\n",
      "Total params: 894,785\n",
      "Trainable params: 894,785\n",
      "Non-trainable params: 0\n",
      "_________________________________________________________________\n"
     ]
    }
   ],
   "source": [
    "import tensorflow.keras\n",
    "from tensorflow.keras.models import Sequential\n",
    "from tensorflow.keras.layers import Dense, Dropout, Activation, Flatten\n",
    "from tensorflow.keras.layers import Conv2D, BatchNormalization\n",
    "from tensorflow.keras.layers import MaxPooling2D\n",
    "import tensorflow.keras.optimizers as optimizers\n",
    "\n",
    "model = Sequential()\n",
    "\n",
    "input_dim=(9,9,1)\n",
    "#Conv2D\n",
    "model.add(Conv2D( 64, (3,3), input_shape=(9,9,2), activation='relu'))\n",
    "model.add(Conv2D( 128, (3,3), input_shape=(9,9,2)))\n",
    "\n",
    "model.add(Flatten())\n",
    "model.add(Dropout(0.5))\n",
    "model.add(Dense(256, activation='sigmoid'))\n",
    "model.add(Dropout(0.5))\n",
    "model.add(Dense(1, activation='relu'))\n",
    "\n",
    "model.summary()"
   ]
  },
  {
   "cell_type": "markdown",
   "metadata": {
    "id": "PemhaY7YkOpw"
   },
   "source": [
    "# Now we can build our sets for training"
   ]
  },
  {
   "cell_type": "code",
   "execution_count": 12,
   "metadata": {
    "colab": {
     "base_uri": "https://localhost:8080/"
    },
    "id": "NnkjKg1ncD5B",
    "outputId": "a6f7d3b4-2fbc-4622-9699-68b778e094e9"
   },
   "outputs": [
    {
     "name": "stdout",
     "output_type": "stream",
     "text": [
      "Prediction this sample:\n",
      "Sample 0\n",
      "\n",
      "Données brutes en format JSON: {'depth': 41, 'list_of_moves': ['C6', 'G3', 'D3', 'E7', 'F3', 'G4', 'G7', 'C8', 'F6', 'B6', 'B5', 'E6', 'D5', 'F8', 'H6', 'F2', 'E2', 'H2', 'F5', 'F4', 'E3', 'B7', 'E5', 'G8', 'H8', 'A5', 'G9', 'B4', 'C5', 'H5', 'G5', 'C2', 'H4', 'C7', 'F9', 'E9', 'H9', 'C4', 'F1', 'C3', 'F7'], 'black_stones': ['F9', 'G9', 'H9', 'H8', 'F7', 'G7', 'C6', 'F6', 'H6', 'B5', 'C5', 'D5', 'E5', 'F5', 'G5', 'H4', 'D3', 'E3', 'F3', 'E2', 'F1'], 'white_stones': ['E9', 'C8', 'F8', 'G8', 'B7', 'C7', 'E7', 'B6', 'E6', 'A5', 'H5', 'B4', 'C4', 'F4', 'G4', 'C3', 'G3', 'C2', 'F2', 'H2'], 'rollouts': 100, 'black_wins': 84, 'black_points': 1034.0, 'white_wins': 16, 'white_points': 296.0}\n",
      "\n",
      "The sample was obtained after 41 moves\n",
      "The successive moves were ['C6', 'G3', 'D3', 'E7', 'F3', 'G4', 'G7', 'C8', 'F6', 'B6', 'B5', 'E6', 'D5', 'F8', 'H6', 'F2', 'E2', 'H2', 'F5', 'F4', 'E3', 'B7', 'E5', 'G8', 'H8', 'A5', 'G9', 'B4', 'C5', 'H5', 'G5', 'C2', 'H4', 'C7', 'F9', 'E9', 'H9', 'C4', 'F1', 'C3', 'F7']\n",
      "After these moves and all the captures, there was black stones at the following position ['F9', 'G9', 'H9', 'H8', 'F7', 'G7', 'C6', 'F6', 'H6', 'B5', 'C5', 'D5', 'E5', 'F5', 'G5', 'H4', 'D3', 'E3', 'F3', 'E2', 'F1']\n",
      "After these moves and all the captures, there was white stones at the following position ['E9', 'C8', 'F8', 'G8', 'B7', 'C7', 'E7', 'B6', 'E6', 'A5', 'H5', 'B4', 'C4', 'F4', 'G4', 'C3', 'G3', 'C2', 'F2', 'H2']\n",
      "Number of rollouts (gnugo games played against itself from this position): 100\n",
      "Over these 100 games, black won 84 times with 1034.0 total points over all this winning games\n",
      "Over these 100 games, white won 16 times with 296.0 total points over all this winning games\n",
      "\n",
      "You predicted [0.1776531] and the actual target was 0.84\n",
      "Prediction this sample:\n",
      "Sample 1\n",
      "\n",
      "Données brutes en format JSON: {'depth': 26, 'list_of_moves': ['E7', 'E4', 'C4', 'D5', 'C5', 'G3', 'C6', 'D3', 'G8', 'G5', 'C2', 'D2', 'C3', 'D6', 'B8', 'H7', 'C7', 'D7', 'D8', 'E6', 'H8', 'F7', 'G7', 'H6', 'F8', 'E8'], 'black_stones': ['B8', 'D8', 'F8', 'G8', 'H8', 'C7', 'G7', 'C6', 'C5', 'C4', 'C3', 'C2'], 'white_stones': ['E8', 'D7', 'F7', 'H7', 'D6', 'E6', 'H6', 'D5', 'G5', 'E4', 'D3', 'G3', 'D2'], 'rollouts': 100, 'black_wins': 54, 'black_points': 324.0, 'white_wins': 46, 'white_points': 396.0}\n",
      "\n",
      "The sample was obtained after 26 moves\n",
      "The successive moves were ['E7', 'E4', 'C4', 'D5', 'C5', 'G3', 'C6', 'D3', 'G8', 'G5', 'C2', 'D2', 'C3', 'D6', 'B8', 'H7', 'C7', 'D7', 'D8', 'E6', 'H8', 'F7', 'G7', 'H6', 'F8', 'E8']\n",
      "After these moves and all the captures, there was black stones at the following position ['B8', 'D8', 'F8', 'G8', 'H8', 'C7', 'G7', 'C6', 'C5', 'C4', 'C3', 'C2']\n",
      "After these moves and all the captures, there was white stones at the following position ['E8', 'D7', 'F7', 'H7', 'D6', 'E6', 'H6', 'D5', 'G5', 'E4', 'D3', 'G3', 'D2']\n",
      "Number of rollouts (gnugo games played against itself from this position): 100\n",
      "Over these 100 games, black won 54 times with 324.0 total points over all this winning games\n",
      "Over these 100 games, white won 46 times with 396.0 total points over all this winning games\n",
      "\n",
      "You predicted [0.2695652] and the actual target was 0.54\n",
      "Prediction this sample:\n",
      "Sample 2\n",
      "\n",
      "Données brutes en format JSON: {'depth': 25, 'list_of_moves': ['C6', 'D5', 'C5', 'D4', 'C4', 'D6', 'C8', 'D3', 'C2', 'C3', 'C7', 'D2', 'F7', 'B2', 'D7', 'F5', 'H7', 'G3', 'J7', 'B3', 'B4', 'H5', 'F6', 'A3', 'G6'], 'black_stones': ['C8', 'C7', 'D7', 'F7', 'H7', 'J7', 'C6', 'F6', 'G6', 'C5', 'B4', 'C4', 'C2'], 'white_stones': ['D6', 'D5', 'F5', 'H5', 'D4', 'A3', 'B3', 'C3', 'D3', 'G3', 'B2', 'D2'], 'rollouts': 100, 'black_wins': 30, 'black_points': 134.0, 'white_wins': 70, 'white_points': 486.0}\n",
      "\n",
      "The sample was obtained after 25 moves\n",
      "The successive moves were ['C6', 'D5', 'C5', 'D4', 'C4', 'D6', 'C8', 'D3', 'C2', 'C3', 'C7', 'D2', 'F7', 'B2', 'D7', 'F5', 'H7', 'G3', 'J7', 'B3', 'B4', 'H5', 'F6', 'A3', 'G6']\n",
      "After these moves and all the captures, there was black stones at the following position ['C8', 'C7', 'D7', 'F7', 'H7', 'J7', 'C6', 'F6', 'G6', 'C5', 'B4', 'C4', 'C2']\n",
      "After these moves and all the captures, there was white stones at the following position ['D6', 'D5', 'F5', 'H5', 'D4', 'A3', 'B3', 'C3', 'D3', 'G3', 'B2', 'D2']\n",
      "Number of rollouts (gnugo games played against itself from this position): 100\n",
      "Over these 100 games, black won 30 times with 134.0 total points over all this winning games\n",
      "Over these 100 games, white won 70 times with 486.0 total points over all this winning games\n",
      "\n",
      "You predicted [0.21516058] and the actual target was 0.3\n",
      "Prediction this sample:\n",
      "Sample 3\n",
      "\n",
      "Données brutes en format JSON: {'depth': 31, 'list_of_moves': ['E3', 'D6', 'F6', 'E7', 'C2', 'F7', 'D4', 'C5', 'B4', 'G3', 'G6', 'E5', 'B5', 'H8', 'C7', 'F2', 'C6', 'D5', 'F4', 'E4', 'C4', 'F5', 'E2', 'F3', 'D8', 'E8', 'E1', 'E9', 'F1', 'G4', 'G2'], 'black_stones': ['D8', 'C7', 'C6', 'F6', 'G6', 'B5', 'B4', 'C4', 'D4', 'E3', 'C2', 'E2', 'G2', 'E1', 'F1'], 'white_stones': ['E9', 'E8', 'H8', 'E7', 'F7', 'D6', 'C5', 'D5', 'E5', 'F5', 'E4', 'G4', 'F3', 'G3', 'F2'], 'rollouts': 100, 'black_wins': 54, 'black_points': 228.0, 'white_wins': 46, 'white_points': 170.0}\n",
      "\n",
      "The sample was obtained after 31 moves\n",
      "The successive moves were ['E3', 'D6', 'F6', 'E7', 'C2', 'F7', 'D4', 'C5', 'B4', 'G3', 'G6', 'E5', 'B5', 'H8', 'C7', 'F2', 'C6', 'D5', 'F4', 'E4', 'C4', 'F5', 'E2', 'F3', 'D8', 'E8', 'E1', 'E9', 'F1', 'G4', 'G2']\n",
      "After these moves and all the captures, there was black stones at the following position ['D8', 'C7', 'C6', 'F6', 'G6', 'B5', 'B4', 'C4', 'D4', 'E3', 'C2', 'E2', 'G2', 'E1', 'F1']\n",
      "After these moves and all the captures, there was white stones at the following position ['E9', 'E8', 'H8', 'E7', 'F7', 'D6', 'C5', 'D5', 'E5', 'F5', 'E4', 'G4', 'F3', 'G3', 'F2']\n",
      "Number of rollouts (gnugo games played against itself from this position): 100\n",
      "Over these 100 games, black won 54 times with 228.0 total points over all this winning games\n",
      "Over these 100 games, white won 46 times with 170.0 total points over all this winning games\n",
      "\n",
      "You predicted [0.24772853] and the actual target was 0.54\n",
      "Prediction this sample:\n",
      "Sample 4\n",
      "\n",
      "Données brutes en format JSON: {'depth': 61, 'list_of_moves': ['F6', 'D3', 'C6', 'G7', 'F7', 'G6', 'E7', 'G3', 'F5', 'B3', 'G5', 'H5', 'F8', 'G4', 'E4', 'C4', 'E3', 'D2', 'F2', 'H8', 'B5', 'G2', 'E2', 'C2', 'B4', 'A2', 'G1', 'D5', 'B6', 'H1', 'G8', 'D6', 'C7', 'F1', 'D7', 'E1', 'H6', 'J6', 'H7', 'J3', 'J7', 'H4', 'D4', 'C5', 'J5', 'A4', 'E5', 'A5', 'A6', 'A3', 'F4', 'C3', 'J6', 'J4', 'F3', 'E6', 'E9', 'H2', 'A7', 'G1', 'E8'], 'black_stones': ['E9', 'E8', 'F8', 'G8', 'A7', 'C7', 'D7', 'E7', 'F7', 'H7', 'J7', 'A6', 'B6', 'C6', 'F6', 'H6', 'J6', 'B5', 'E5', 'F5', 'G5', 'J5', 'B4', 'D4', 'E4', 'F4', 'E3', 'F3', 'E2', 'F2'], 'white_stones': ['H8', 'D6', 'E6', 'A5', 'C5', 'D5', 'H5', 'A4', 'C4', 'G4', 'H4', 'J4', 'A3', 'B3', 'C3', 'D3', 'G3', 'J3', 'A2', 'C2', 'D2', 'G2', 'H2', 'E1', 'F1', 'G1', 'H1'], 'rollouts': 100, 'black_wins': 100, 'black_points': 1300.0, 'white_wins': 0, 'white_points': 0}\n",
      "\n",
      "The sample was obtained after 61 moves\n",
      "The successive moves were ['F6', 'D3', 'C6', 'G7', 'F7', 'G6', 'E7', 'G3', 'F5', 'B3', 'G5', 'H5', 'F8', 'G4', 'E4', 'C4', 'E3', 'D2', 'F2', 'H8', 'B5', 'G2', 'E2', 'C2', 'B4', 'A2', 'G1', 'D5', 'B6', 'H1', 'G8', 'D6', 'C7', 'F1', 'D7', 'E1', 'H6', 'J6', 'H7', 'J3', 'J7', 'H4', 'D4', 'C5', 'J5', 'A4', 'E5', 'A5', 'A6', 'A3', 'F4', 'C3', 'J6', 'J4', 'F3', 'E6', 'E9', 'H2', 'A7', 'G1', 'E8']\n",
      "After these moves and all the captures, there was black stones at the following position ['E9', 'E8', 'F8', 'G8', 'A7', 'C7', 'D7', 'E7', 'F7', 'H7', 'J7', 'A6', 'B6', 'C6', 'F6', 'H6', 'J6', 'B5', 'E5', 'F5', 'G5', 'J5', 'B4', 'D4', 'E4', 'F4', 'E3', 'F3', 'E2', 'F2']\n",
      "After these moves and all the captures, there was white stones at the following position ['H8', 'D6', 'E6', 'A5', 'C5', 'D5', 'H5', 'A4', 'C4', 'G4', 'H4', 'J4', 'A3', 'B3', 'C3', 'D3', 'G3', 'J3', 'A2', 'C2', 'D2', 'G2', 'H2', 'E1', 'F1', 'G1', 'H1']\n",
      "Number of rollouts (gnugo games played against itself from this position): 100\n",
      "Over these 100 games, black won 100 times with 1300.0 total points over all this winning games\n",
      "Over these 100 games, white won 0 times with 0 total points over all this winning games\n",
      "\n",
      "You predicted [0.2725691] and the actual target was 1.0\n",
      "Prediction this sample:\n",
      "Sample 5\n",
      "\n",
      "Données brutes en format JSON: {'depth': 15, 'list_of_moves': ['C6', 'D5', 'C5', 'E3', 'D4', 'D2', 'D7', 'G3', 'F7', 'F5', 'E5', 'E6', 'D8', 'F6', 'D6'], 'black_stones': ['D8', 'D7', 'F7', 'C6', 'D6', 'C5', 'E5', 'D4'], 'white_stones': ['E6', 'F6', 'F5', 'E3', 'G3', 'D2'], 'rollouts': 100, 'black_wins': 63, 'black_points': 679.0, 'white_wins': 37, 'white_points': 255.0}\n",
      "\n",
      "The sample was obtained after 15 moves\n",
      "The successive moves were ['C6', 'D5', 'C5', 'E3', 'D4', 'D2', 'D7', 'G3', 'F7', 'F5', 'E5', 'E6', 'D8', 'F6', 'D6']\n",
      "After these moves and all the captures, there was black stones at the following position ['D8', 'D7', 'F7', 'C6', 'D6', 'C5', 'E5', 'D4']\n",
      "After these moves and all the captures, there was white stones at the following position ['E6', 'F6', 'F5', 'E3', 'G3', 'D2']\n",
      "Number of rollouts (gnugo games played against itself from this position): 100\n",
      "Over these 100 games, black won 63 times with 679.0 total points over all this winning games\n",
      "Over these 100 games, white won 37 times with 255.0 total points over all this winning games\n",
      "\n"
     ]
    },
    {
     "name": "stdout",
     "output_type": "stream",
     "text": [
      "You predicted [0.26101714] and the actual target was 0.63\n",
      "Prediction this sample:\n",
      "Sample 6\n",
      "\n",
      "Données brutes en format JSON: {'depth': 38, 'list_of_moves': ['D3', 'C6', 'B4', 'F7', 'G4', 'B5', 'A3', 'H7', 'F5', 'F6', 'C4', 'C7', 'E5', 'H5', 'E6', 'E7', 'H4', 'G5', 'A5', 'A6', 'A4', 'J4', 'J3', 'J5', 'G3', 'D6', 'D5', 'C5', 'H2', 'J6', 'D4', 'B8', 'G2', 'A7', 'J1', 'B7', 'F4', 'G6'], 'black_stones': ['E6', 'A5', 'D5', 'E5', 'F5', 'A4', 'B4', 'C4', 'D4', 'F4', 'G4', 'H4', 'A3', 'D3', 'G3', 'J3', 'G2', 'H2', 'J1'], 'white_stones': ['B8', 'A7', 'B7', 'C7', 'E7', 'F7', 'H7', 'A6', 'C6', 'D6', 'F6', 'G6', 'J6', 'B5', 'C5', 'G5', 'H5', 'J5', 'J4'], 'rollouts': 100, 'black_wins': 0, 'black_points': 0, 'white_wins': 100, 'white_points': 100.0}\n",
      "\n",
      "The sample was obtained after 38 moves\n",
      "The successive moves were ['D3', 'C6', 'B4', 'F7', 'G4', 'B5', 'A3', 'H7', 'F5', 'F6', 'C4', 'C7', 'E5', 'H5', 'E6', 'E7', 'H4', 'G5', 'A5', 'A6', 'A4', 'J4', 'J3', 'J5', 'G3', 'D6', 'D5', 'C5', 'H2', 'J6', 'D4', 'B8', 'G2', 'A7', 'J1', 'B7', 'F4', 'G6']\n",
      "After these moves and all the captures, there was black stones at the following position ['E6', 'A5', 'D5', 'E5', 'F5', 'A4', 'B4', 'C4', 'D4', 'F4', 'G4', 'H4', 'A3', 'D3', 'G3', 'J3', 'G2', 'H2', 'J1']\n",
      "After these moves and all the captures, there was white stones at the following position ['B8', 'A7', 'B7', 'C7', 'E7', 'F7', 'H7', 'A6', 'C6', 'D6', 'F6', 'G6', 'J6', 'B5', 'C5', 'G5', 'H5', 'J5', 'J4']\n",
      "Number of rollouts (gnugo games played against itself from this position): 100\n",
      "Over these 100 games, black won 0 times with 0 total points over all this winning games\n",
      "Over these 100 games, white won 100 times with 100.0 total points over all this winning games\n",
      "\n",
      "You predicted [0.24862313] and the actual target was 0.0\n",
      "Prediction this sample:\n",
      "Sample 7\n",
      "\n",
      "Données brutes en format JSON: {'depth': 12, 'list_of_moves': ['D5', 'D3', 'C3', 'D7', 'F5', 'C6', 'C2', 'B5', 'G7', 'G3', 'H5', 'F7'], 'black_stones': ['G7', 'D5', 'F5', 'H5', 'C3', 'C2'], 'white_stones': ['D7', 'F7', 'C6', 'B5', 'D3', 'G3'], 'rollouts': 100, 'black_wins': 45, 'black_points': 739.0, 'white_wins': 55, 'white_points': 653.0}\n",
      "\n",
      "The sample was obtained after 12 moves\n",
      "The successive moves were ['D5', 'D3', 'C3', 'D7', 'F5', 'C6', 'C2', 'B5', 'G7', 'G3', 'H5', 'F7']\n",
      "After these moves and all the captures, there was black stones at the following position ['G7', 'D5', 'F5', 'H5', 'C3', 'C2']\n",
      "After these moves and all the captures, there was white stones at the following position ['D7', 'F7', 'C6', 'B5', 'D3', 'G3']\n",
      "Number of rollouts (gnugo games played against itself from this position): 100\n",
      "Over these 100 games, black won 45 times with 739.0 total points over all this winning games\n",
      "Over these 100 games, white won 55 times with 653.0 total points over all this winning games\n",
      "\n",
      "You predicted [0.24407676] and the actual target was 0.45\n",
      "Prediction this sample:\n",
      "Sample 8\n",
      "\n",
      "Données brutes en format JSON: {'depth': 27, 'list_of_moves': ['F6', 'D5', 'F3', 'D7', 'C3', 'C7', 'E8', 'C4', 'D3', 'B3', 'E5', 'B2', 'E7', 'C2', 'D2', 'D8', 'D4', 'D6', 'E9', 'D1', 'E2', 'E1', 'F1', 'C1', 'D9', 'C9', 'E6'], 'black_stones': ['D9', 'E9', 'E8', 'E7', 'E6', 'F6', 'E5', 'D4', 'C3', 'D3', 'F3', 'D2', 'E2', 'F1'], 'white_stones': ['C9', 'D8', 'C7', 'D7', 'D6', 'D5', 'C4', 'B3', 'B2', 'C2', 'C1', 'D1', 'E1'], 'rollouts': 100, 'black_wins': 100, 'black_points': 2234.0, 'white_wins': 0, 'white_points': 0}\n",
      "\n",
      "The sample was obtained after 27 moves\n",
      "The successive moves were ['F6', 'D5', 'F3', 'D7', 'C3', 'C7', 'E8', 'C4', 'D3', 'B3', 'E5', 'B2', 'E7', 'C2', 'D2', 'D8', 'D4', 'D6', 'E9', 'D1', 'E2', 'E1', 'F1', 'C1', 'D9', 'C9', 'E6']\n",
      "After these moves and all the captures, there was black stones at the following position ['D9', 'E9', 'E8', 'E7', 'E6', 'F6', 'E5', 'D4', 'C3', 'D3', 'F3', 'D2', 'E2', 'F1']\n",
      "After these moves and all the captures, there was white stones at the following position ['C9', 'D8', 'C7', 'D7', 'D6', 'D5', 'C4', 'B3', 'B2', 'C2', 'C1', 'D1', 'E1']\n",
      "Number of rollouts (gnugo games played against itself from this position): 100\n",
      "Over these 100 games, black won 100 times with 2234.0 total points over all this winning games\n",
      "Over these 100 games, white won 0 times with 0 total points over all this winning games\n",
      "\n",
      "You predicted [0.26695544] and the actual target was 1.0\n",
      "Prediction this sample:\n",
      "Sample 9\n",
      "\n",
      "Données brutes en format JSON: {'depth': 15, 'list_of_moves': ['D6', 'F4', 'G6', 'G5', 'D3', 'F6', 'E4', 'G7', 'F3', 'G3', 'E7', 'F8', 'F2', 'D8', 'F7'], 'black_stones': ['E7', 'F7', 'D6', 'G6', 'E4', 'D3', 'F3', 'F2'], 'white_stones': ['D8', 'F8', 'G7', 'F6', 'G5', 'F4', 'G3'], 'rollouts': 100, 'black_wins': 67, 'black_points': 777.0, 'white_wins': 33, 'white_points': 359.0}\n",
      "\n",
      "The sample was obtained after 15 moves\n",
      "The successive moves were ['D6', 'F4', 'G6', 'G5', 'D3', 'F6', 'E4', 'G7', 'F3', 'G3', 'E7', 'F8', 'F2', 'D8', 'F7']\n",
      "After these moves and all the captures, there was black stones at the following position ['E7', 'F7', 'D6', 'G6', 'E4', 'D3', 'F3', 'F2']\n",
      "After these moves and all the captures, there was white stones at the following position ['D8', 'F8', 'G7', 'F6', 'G5', 'F4', 'G3']\n",
      "Number of rollouts (gnugo games played against itself from this position): 100\n",
      "Over these 100 games, black won 67 times with 777.0 total points over all this winning games\n",
      "Over these 100 games, white won 33 times with 359.0 total points over all this winning games\n",
      "\n",
      "You predicted [0.22915179] and the actual target was 0.67\n"
     ]
    }
   ],
   "source": [
    "def position_predict(description):\n",
    "    # Cette méthode doit prendre une description de partie (un élément de l'ensemble \n",
    "    # des exemples donnés en format JSON) et va produire la prédiction de victoire\n",
    "\n",
    "    # ... Votre tambouille interne pour placer les pierres comme il faut dans votre structure de données\n",
    "    # et appeler votre modèle Keras (typiquement avec model.predict())\n",
    "    # Si vous utilisez la fonction de base donéee ci-dessus, cela pourra être\n",
    "    input = json_to_numpy(description)\n",
    " \n",
    "    # input est ici un seul exemple. Votre modèle demandant un ensemble d'exemples\n",
    "    # il faudra étendre ses dimensions pour que model recoivent un tenseur contenant\n",
    "    # un seul exemple : on utilse expand_dims pour dire qu'au lieu d'avoir x \n",
    "    # on a en fait [x]\n",
    "    # Si (comme on l'a fait) on a un X qui a les dimensions (9,9,2)\n",
    "    #  alors on aura un tenseur aux dimensions (1,9,9,2)\n",
    "    input = np.expand_dims(input, axis=0)\n",
    "  \n",
    "    prediction = model.predict(input) # Ne marchera que si model est correctement defini\n",
    "    \n",
    "    return prediction[0] # De même ici on réduit la dimension de sortie\n",
    "\n",
    "# Par exemple, nous pourrons appeler votre prédiction ainsi\n",
    "for i in range(10):\n",
    "    print(\"Prediction this sample:\")\n",
    "    summary_of_example(data, i)\n",
    "    print()\n",
    "    prediction = position_predict(data[i])\n",
    "    print(\"You predicted\", prediction, \"and the actual target was\", data[i][\"black_wins\"]/data[i][\"rollouts\"])\n",
    "\n",
    "# Ainsi, pour le rendu, en admettant que newdata soit le fichier json contenant\n",
    "# les plateaux à prédire vous pourrez construire le fichier resultat ainsi\n",
    "# vérifiez tout de même que la sortie est ok avant de la soumettre\n",
    "\n",
    "def create_result_file(newdata):\n",
    "    ''' Exemple de méthode permettant de générer le fichier de resultats demandés. '''\n",
    "    resultat  = [position_predict(d[\"black_stones\"], d[\"white_stones\"]) for d in newdata]\n",
    "    with open(\"my_predictions.txt\", \"w\") as f:\n",
    "         for p in resultat:\n",
    "            f.write(str(p)+\"\\n\")\n",
    "            "
   ]
  },
  {
   "cell_type": "markdown",
   "metadata": {
    "id": "gZ8E7eNEcD5C"
   },
   "source": [
    "# Last step\n",
    "\n",
    "Prepare your model to predict the set of new data to predict, and predict the file with the 1000 examples to predict!\n",
    "\n",
    "(may be you would like to express, when guessing the percentage of wins for blacks, that it should reflect the fact that this score should be the same for all the symmetries you considered)..."
   ]
  },
  {
   "cell_type": "code",
   "execution_count": null,
   "metadata": {
    "id": "3-AZrYhXcD5C"
   },
   "outputs": [
    {
     "name": "stdout",
     "output_type": "stream",
     "text": [
      "Epoch 1/30\n",
      "871/871 [==============================] - 11s 12ms/step - loss: 0.1488 - accuracy: 0.2355 - val_loss: 0.0826 - val_accuracy: 0.2620\n",
      "Epoch 2/30\n",
      "871/871 [==============================] - 11s 13ms/step - loss: 0.0873 - accuracy: 0.2825 - val_loss: 0.0708 - val_accuracy: 0.2855\n",
      "Epoch 3/30\n",
      "871/871 [==============================] - 12s 14ms/step - loss: 0.0740 - accuracy: 0.2990 - val_loss: 0.0605 - val_accuracy: 0.2967\n",
      "Epoch 4/30\n",
      "871/871 [==============================] - 11s 12ms/step - loss: 0.0672 - accuracy: 0.3059 - val_loss: 0.0596 - val_accuracy: 0.3017\n",
      "Epoch 5/30\n",
      "871/871 [==============================] - 12s 13ms/step - loss: 0.0627 - accuracy: 0.3090 - val_loss: 0.0565 - val_accuracy: 0.3015\n",
      "Epoch 6/30\n",
      "871/871 [==============================] - 11s 13ms/step - loss: 0.0601 - accuracy: 0.3131 - val_loss: 0.0511 - val_accuracy: 0.3051\n",
      "Epoch 7/30\n",
      "871/871 [==============================] - 11s 13ms/step - loss: 0.0551 - accuracy: 0.3177 - val_loss: 0.0519 - val_accuracy: 0.3052\n",
      "Epoch 8/30\n",
      "871/871 [==============================] - 11s 13ms/step - loss: 0.0541 - accuracy: 0.3184 - val_loss: 0.0521 - val_accuracy: 0.3034\n",
      "Epoch 9/30\n",
      "871/871 [==============================] - 11s 13ms/step - loss: 0.0514 - accuracy: 0.3205 - val_loss: 0.0502 - val_accuracy: 0.3024\n",
      "Epoch 10/30\n",
      "871/871 [==============================] - 12s 14ms/step - loss: 0.0499 - accuracy: 0.3226 - val_loss: 0.0559 - val_accuracy: 0.3056\n",
      "Epoch 11/30\n",
      "871/871 [==============================] - 11s 12ms/step - loss: 0.0478 - accuracy: 0.3253 - val_loss: 0.0497 - val_accuracy: 0.3026\n",
      "Epoch 12/30\n",
      "871/871 [==============================] - 12s 14ms/step - loss: 0.0480 - accuracy: 0.3236 - val_loss: 0.0477 - val_accuracy: 0.3068\n",
      "Epoch 13/30\n",
      "871/871 [==============================] - 11s 13ms/step - loss: 0.0466 - accuracy: 0.3250 - val_loss: 0.0452 - val_accuracy: 0.3091\n",
      "Epoch 14/30\n",
      "871/871 [==============================] - 13s 15ms/step - loss: 0.0450 - accuracy: 0.3278 - val_loss: 0.0458 - val_accuracy: 0.3088\n",
      "Epoch 15/30\n",
      "871/871 [==============================] - 12s 14ms/step - loss: 0.0440 - accuracy: 0.3289 - val_loss: 0.0460 - val_accuracy: 0.3088\n",
      "Epoch 16/30\n",
      "437/871 [==============>...............] - ETA: 4s - loss: 0.0430 - accuracy: 0.3272"
     ]
    }
   ],
   "source": [
    "model.compile(loss='mean_squared_error', optimizer='adam', metrics=['accuracy'])\n",
    "# Plutot que X_train, Y_train et X_test, Y_test on passe tous les exemples\n",
    "# et on demande à keras de découper en deux ensembles (training et test)\n",
    "# grâce au paramètre validation_split\n",
    "# Bien entendu il faudra plus de 20 epochs, mais c'est à vous de modifier cela !\n",
    "model.fit(X, Y, epochs=30, validation_split=0.33)"
   ]
  },
  {
   "cell_type": "code",
   "execution_count": null,
   "metadata": {},
   "outputs": [],
   "source": []
  }
 ],
 "metadata": {
  "colab": {
   "collapsed_sections": [],
   "name": "TP-Note-ML-GO.ipynb",
   "provenance": []
  },
  "kernelspec": {
   "display_name": "Python 3",
   "language": "python",
   "name": "python3"
  },
  "language_info": {
   "codemirror_mode": {
    "name": "ipython",
    "version": 3
   },
   "file_extension": ".py",
   "mimetype": "text/x-python",
   "name": "python",
   "nbconvert_exporter": "python",
   "pygments_lexer": "ipython3",
   "version": "3.8.5"
  }
 },
 "nbformat": 4,
 "nbformat_minor": 1
}
